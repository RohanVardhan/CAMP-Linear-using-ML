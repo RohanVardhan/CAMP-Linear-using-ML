{
 "cells": [
  {
   "cell_type": "code",
   "execution_count": null,
   "metadata": {
    "collapsed": false
   },
   "outputs": [],
   "source": [
    "import pandas as pd\n",
    "import numpy as np\n",
    "import glob\n",
    "import os\n",
    "import sys\n",
    "import csv\n",
    "import seaborn as sns\n",
    "import matplotlib\n",
    "import matplotlib.pyplot as plt\n",
    "%matplotlib inline\n",
    "from scipy import stats\n",
    "from sklearn import preprocessing\n",
    "from sklearn import linear_model\n",
    "from sklearn import ensemble\n",
    "from sklearn import tree\n",
    "from sklearn import neural_network\n",
    "from sklearn import svm\n",
    "from sklearn import naive_bayes\n",
    "from sklearn import metrics\n",
    "from mpl_toolkits.mplot3d import Axes3D\n",
    "#plt.style.use(style='ggplot')\n",
    "#plt.rcParams['figure.figsize'] = (10, 6)"
   ]
  },
  {
   "cell_type": "code",
   "execution_count": null,
   "metadata": {
    "collapsed": true
   },
   "outputs": [],
   "source": [
    "path='./cleanData/PER_0/'"
   ]
  },
  {
   "cell_type": "code",
   "execution_count": null,
   "metadata": {
    "collapsed": false
   },
   "outputs": [],
   "source": [
    "d=[]\n",
    "length = []\n",
    "for file in os.listdir(path):\n",
    "    with open(path+file) as fx:\n",
    "        reader = csv.reader(fx)\n",
    "        count = 1\n",
    "        for line in reader:\n",
    "            d.append(map(float, line))\n",
    "            count = count + 1\n",
    "        length.append(count)"
   ]
  },
  {
   "cell_type": "code",
   "execution_count": null,
   "metadata": {
    "collapsed": true
   },
   "outputs": [],
   "source": [
    "data = pd.DataFrame()"
   ]
  },
  {
   "cell_type": "code",
   "execution_count": null,
   "metadata": {
    "collapsed": false
   },
   "outputs": [],
   "source": [
    "data = data.append(d,ignore_index=True)"
   ]
  },
  {
   "cell_type": "code",
   "execution_count": null,
   "metadata": {
    "collapsed": false
   },
   "outputs": [],
   "source": [
    "data.columns=(['a_LV','v_LV','a_FV','v_FV','SepDist','WarningRange'])   "
   ]
  },
  {
   "cell_type": "code",
   "execution_count": null,
   "metadata": {
    "collapsed": true
   },
   "outputs": [],
   "source": [
    "data = data.drop(data[data['WarningRange']-data['SepDist'] >= 200].index)"
   ]
  },
  {
   "cell_type": "code",
   "execution_count": null,
   "metadata": {
    "collapsed": false
   },
   "outputs": [],
   "source": [
    "#multicollinear_corr = np.corrcoef(data, rowvar=0)\n",
    "#multicollinear_corr"
   ]
  },
  {
   "cell_type": "code",
   "execution_count": null,
   "metadata": {
    "collapsed": false
   },
   "outputs": [],
   "source": [
    "plt.scatter(data['a_LV'],data['WarningRange']-data['SepDist'])"
   ]
  },
  {
   "cell_type": "code",
   "execution_count": null,
   "metadata": {
    "collapsed": false
   },
   "outputs": [],
   "source": [
    "data = data[(np.abs(stats.zscore(data))<3).all(axis=1)]"
   ]
  },
  {
   "cell_type": "code",
   "execution_count": null,
   "metadata": {
    "collapsed": false
   },
   "outputs": [],
   "source": [
    "plt.scatter(data['a_LV'],data['WarningRange']-data['SepDist'])"
   ]
  },
  {
   "cell_type": "code",
   "execution_count": null,
   "metadata": {
    "collapsed": false
   },
   "outputs": [],
   "source": [
    "data['alert'] = np.where(data['WarningRange'] >= data['SepDist'], 1, 0)"
   ]
  },
  {
   "cell_type": "code",
   "execution_count": null,
   "metadata": {
    "collapsed": true
   },
   "outputs": [],
   "source": [
    "data[['a_LV','v_LV','a_FV','v_FV','SepDist','WarningRange']] = preprocessing.scale(data[['a_LV','v_LV','a_FV','v_FV','SepDist','WarningRange']],with_mean=True, with_std=True)"
   ]
  },
  {
   "cell_type": "code",
   "execution_count": null,
   "metadata": {
    "collapsed": false
   },
   "outputs": [],
   "source": [
    "plt.hist(data['a_FV'])"
   ]
  },
  {
   "cell_type": "code",
   "execution_count": null,
   "metadata": {
    "collapsed": false
   },
   "outputs": [],
   "source": [
    "plt.hist(data['a_LV'])"
   ]
  },
  {
   "cell_type": "code",
   "execution_count": null,
   "metadata": {
    "collapsed": false
   },
   "outputs": [],
   "source": [
    "plt.hist(data['v_LV'])"
   ]
  },
  {
   "cell_type": "code",
   "execution_count": null,
   "metadata": {
    "collapsed": false
   },
   "outputs": [],
   "source": [
    "plt.hist(data['v_FV'])"
   ]
  },
  {
   "cell_type": "code",
   "execution_count": null,
   "metadata": {
    "collapsed": false
   },
   "outputs": [],
   "source": [
    "split1 = int(round(0.6*827))"
   ]
  },
  {
   "cell_type": "code",
   "execution_count": null,
   "metadata": {
    "collapsed": false
   },
   "outputs": [],
   "source": [
    "split2 = int(round(0.2*827))"
   ]
  },
  {
   "cell_type": "code",
   "execution_count": null,
   "metadata": {
    "collapsed": false
   },
   "outputs": [],
   "source": [
    "split3 = int(round(0.2*827))"
   ]
  },
  {
   "cell_type": "code",
   "execution_count": null,
   "metadata": {
    "collapsed": false
   },
   "outputs": [],
   "source": [
    "t1 = sum(length[:split1])"
   ]
  },
  {
   "cell_type": "code",
   "execution_count": null,
   "metadata": {
    "collapsed": false
   },
   "outputs": [],
   "source": [
    "train = data[:t1] "
   ]
  },
  {
   "cell_type": "code",
   "execution_count": null,
   "metadata": {
    "collapsed": true
   },
   "outputs": [],
   "source": [
    "#cv = data[(220163+74426):]"
   ]
  },
  {
   "cell_type": "code",
   "execution_count": null,
   "metadata": {
    "collapsed": false
   },
   "outputs": [],
   "source": [
    "clf1 = ensemble.RandomForestClassifier(n_estimators = 50, oob_score = True, n_jobs = -1,random_state =50,max_features = \"sqrt\", min_samples_leaf = 50)\n",
    "#clf1 = neural_network.MLPClassifier(hidden_layer_sizes=(20,))\n",
    "clf1 = clf1.fit(train[['a_LV','v_LV','a_FV','v_FV']],train[['alert']])"
   ]
  },
  {
   "cell_type": "code",
   "execution_count": null,
   "metadata": {
    "collapsed": false
   },
   "outputs": [],
   "source": [
    "#clf2 = ensemble.GradientBoostingClassifier(learning_rate=0.01,n_estimators=50, loss='exponential')\n",
    "clf2 = tree.DecisionTreeClassifier()\n",
    "clf2 = clf2.fit(train[['a_LV','v_LV','a_FV','v_FV']],train[['alert']])"
   ]
  },
  {
   "cell_type": "code",
   "execution_count": null,
   "metadata": {
    "collapsed": false
   },
   "outputs": [],
   "source": [
    "test_tr = list(range(8627,8958))\n",
    "Fscore1 = []\n",
    "Fscore2 = []\n",
    "\n",
    "for i in range(len(test_tr)):\n",
    "        lenn = test_tr[i] - 8296\n",
    "        lenn = lenn - 4\n",
    "        if lenn==823:\n",
    "            l1 = length[lenn-1]\n",
    "            test = data[-l1:]\n",
    "        else:\n",
    "            l1 = sum(length[:lenn])\n",
    "            l2 = sum(length[:(lenn+1)])\n",
    "            test = data[l1:l2]\n",
    "       \n",
    "        pred = clf1.predict(test[['a_LV','v_LV','a_FV','v_FV']])\n",
    "        f1 = metrics.f1_score(pred,test[['alert']],average='micro')\n",
    "        f1 = round(f1,3)\n",
    "        Fscore1.append(f1)\n",
    "        \n",
    "        pred2 = clf2.predict(test[['a_LV','v_LV','a_FV','v_FV']])\n",
    "        f2 = metrics.f1_score(pred2,test[['alert']],average='micro')\n",
    "        f2 = round(f2,3)\n",
    "        Fscore2.append(f2)\n",
    "\n",
    "#print('F1-score = ', f1)"
   ]
  },
  {
   "cell_type": "code",
   "execution_count": null,
   "metadata": {
    "collapsed": false
   },
   "outputs": [],
   "source": [
    "#plt.subplot(2,1,1)\n",
    "#plt.plot([i for i in range(len(test['WarningRange']))], test['alert'], label=\"Camp\")#, marker='8')\n",
    "#plt.xlabel(\"Time step\")\n",
    "#plt.ylabel(\"CAMP\")\n",
    "\n",
    "#plt.subplot(2,1,2)\n",
    "#plt.plot([i for i in range(len(test['alert']))], pred, label=\"Camp\")#, marker='8')\n",
    "#plt.xlabel(\"Time step\")\n",
    "#plt.ylabel(\"ML\")\n",
    "\n",
    "#plt.savefig('./camp.png')"
   ]
  },
  {
   "cell_type": "code",
   "execution_count": null,
   "metadata": {
    "collapsed": false
   },
   "outputs": [],
   "source": [
    "plt.subplot(2,1,1)\n",
    "plt.title('F1-scores')\n",
    "plt.hist(Fscore1, label='F1-score from 1st classifier')\n",
    "plt.legend(loc=2)\n",
    "\n",
    "plt.subplot(2,1,2)\n",
    "plt.hist(Fscore2, label='F1-score from 2nd classifier')\n",
    "plt.legend(loc=2)\n"
   ]
  },
  {
   "cell_type": "code",
   "execution_count": null,
   "metadata": {
    "collapsed": false
   },
   "outputs": [],
   "source": [
    "sorted1 = np.sort(Fscore1)\n",
    "yvals = np.arange(len(sorted1))/float(len(sorted1))\n",
    "sorted2 = np.sort(Fscore2)\n",
    "yvals2 = np.arange(len(sorted2))/float(len(sorted2))\n",
    "\n",
    "c1 = 0.3\n",
    "c2 = 0.7\n",
    "x = c1*sorted1 + c2*sorted2\n",
    "y = c1*yvals+ c2*yvals2\n",
    "\n",
    "plt.subplot(2,1,1)\n",
    "plt.plot(sorted1, yvals, color='r',label='1st')\n",
    "plt.plot(sorted2, yvals2, color='b',label='2nd')\n",
    "plt.plot(x,y,color='g',label='tree+forest')\n",
    "plt.title('ECDF')\n",
    "plt.legend(loc=2)"
   ]
  },
  {
   "cell_type": "code",
   "execution_count": null,
   "metadata": {
    "collapsed": true
   },
   "outputs": [],
   "source": []
  }
 ],
 "metadata": {
  "anaconda-cloud": {},
  "kernelspec": {
   "display_name": "Python 3",
   "language": "python",
   "name": "python3"
  },
  "language_info": {
   "codemirror_mode": {
    "name": "ipython",
    "version": 3
   },
   "file_extension": ".py",
   "mimetype": "text/x-python",
   "name": "python",
   "nbconvert_exporter": "python",
   "pygments_lexer": "ipython3",
   "version": "3.6.0"
  }
 },
 "nbformat": 4,
 "nbformat_minor": 2
}
